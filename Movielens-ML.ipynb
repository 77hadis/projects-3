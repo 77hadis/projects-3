{
 "cells": [
  {
   "cell_type": "code",
   "execution_count": null,
   "id": "fba647c4",
   "metadata": {},
   "outputs": [],
   "source": [
    "# به نام حضرت حق"
   ]
  },
  {
   "cell_type": "code",
   "execution_count": null,
   "id": "c57a31b0",
   "metadata": {},
   "outputs": [],
   "source": [
    "# حدیث حق شناس جزی\n",
    "# 401112106"
   ]
  },
  {
   "cell_type": "code",
   "execution_count": null,
   "id": "e43bc06b",
   "metadata": {},
   "outputs": [],
   "source": [
    "# پروژه نهایی\n",
    "# یادگیری ماشین و بازنشانی الگو\n",
    "# دکتر رضوانیان\n",
    "\n",
    "# پیاده سازی و ساخت مدل dcn\n",
    "# روی دیتاست movielens"
   ]
  },
  {
   "cell_type": "code",
   "execution_count": null,
   "id": "1db4dd15",
   "metadata": {},
   "outputs": [],
   "source": [
    "# دیتاست criteo \n",
    "# که در مقاله اورده شده \n",
    "# به دلیل حجم نزدیک به 4 گیگ در لپتاپ بنده \n",
    "# قابل انجام نبود \n",
    "# (حتی برای خواندن آن نیز لپتاپ به زمان زیادی نیاز داشت)"
   ]
  },
  {
   "cell_type": "code",
   "execution_count": null,
   "id": "cbabc486",
   "metadata": {},
   "outputs": [],
   "source": [
    "# به عنوان کار مازاد بر پروژه مدل dnn \n",
    "# نیز پیاده سازی و با این مدل مقایسه شد"
   ]
  },
  {
   "cell_type": "code",
   "execution_count": null,
   "id": "5e993501",
   "metadata": {},
   "outputs": [],
   "source": [
    "import pandas as pd\n",
    "import numpy as np"
   ]
  },
  {
   "cell_type": "code",
   "execution_count": 5,
   "id": "98994e41",
   "metadata": {},
   "outputs": [],
   "source": [
    "import tensorflow as tf\n",
    "import tensorflow_datasets as tfds\n",
    "import tensorflow_recommenders as tfrs\n",
    "import tensorflow_ranking as tfrs"
   ]
  },
  {
   "cell_type": "code",
   "execution_count": null,
   "id": "6b488570",
   "metadata": {},
   "outputs": [],
   "source": [
    "import pprint\n",
    "%matplotlib inline\n",
    "import matplotlib.pyplot as plt\n",
    "from mpl_toolkits.axes_grid1 import make_axes_locatable"
   ]
  },
  {
   "cell_type": "code",
   "execution_count": 1,
   "id": "691919cd",
   "metadata": {},
   "outputs": [
    {
     "data": {
      "text/plain": [
       "'ratings.dat'"
      ]
     },
     "execution_count": 1,
     "metadata": {},
     "output_type": "execute_result"
    }
   ],
   "source": [
    "# Define file paths\n",
    "ratings_file = 'ratings.dat'\n",
    "users_file = 'users.dat'\n",
    "movies_file = 'movies.dat'\n",
    "\n",
    "ratings_file"
   ]
  },
  {
   "cell_type": "code",
   "execution_count": 2,
   "id": "ffd4867f",
   "metadata": {},
   "outputs": [],
   "source": [
    "# Define column names for every file\n",
    "ratings_cols = ['UserID', 'MovieID', 'Rating', 'Timestamp']\n",
    "users_cols = ['UserID', 'Gender', 'Age', 'Occupation', 'Zip-code']\n",
    "movies_cols = ['MovieID', 'Title', 'Genres']"
   ]
  },
  {
   "cell_type": "code",
   "execution_count": 3,
   "id": "cd178ddf",
   "metadata": {},
   "outputs": [],
   "source": [
    "# encoding\n",
    "ratings_df = pd.read_csv(ratings_file, sep='::', header=None, names=ratings_cols, encoding='latin-1', engine='python')\n",
    "users_df = pd.read_csv(users_file, sep='::', header=None, names=users_cols, encoding='latin-1', engine='python')\n",
    "movies_df = pd.read_csv(movies_file, sep='::', header=None, names=movies_cols, encoding='latin-1', engine='python')\n"
   ]
  },
  {
   "cell_type": "code",
   "execution_count": 4,
   "id": "ffe340bd",
   "metadata": {},
   "outputs": [
    {
     "name": "stdout",
     "output_type": "stream",
     "text": [
      "Ratings DataFrame:\n",
      "   UserID  MovieID  Rating  Timestamp\n",
      "0       1     1193       5  978300760\n",
      "1       1      661       3  978302109\n",
      "2       1      914       3  978301968\n",
      "3       1     3408       4  978300275\n",
      "4       1     2355       5  978824291\n",
      "\n",
      "Users DataFrame:\n",
      "   UserID Gender  Age  Occupation Zip-code\n",
      "0       1      F    1          10    48067\n",
      "1       2      M   56          16    70072\n",
      "2       3      M   25          15    55117\n",
      "3       4      M   45           7    02460\n",
      "4       5      M   25          20    55455\n",
      "\n",
      "Movies DataFrame:\n",
      "   MovieID                               Title                        Genres\n",
      "0        1                    Toy Story (1995)   Animation|Children's|Comedy\n",
      "1        2                      Jumanji (1995)  Adventure|Children's|Fantasy\n",
      "2        3             Grumpier Old Men (1995)                Comedy|Romance\n",
      "3        4            Waiting to Exhale (1995)                  Comedy|Drama\n",
      "4        5  Father of the Bride Part II (1995)                        Comedy\n"
     ]
    }
   ],
   "source": [
    "# Display the DataFrame\n",
    "print(\"Ratings DataFrame:\")\n",
    "print(ratings_df.head())\n",
    "\n",
    "print(\"\\nUsers DataFrame:\")\n",
    "print(users_df.head())\n",
    "\n",
    "print(\"\\nMovies DataFrame:\")\n",
    "print(movies_df.head())"
   ]
  },
  {
   "cell_type": "code",
   "execution_count": 6,
   "id": "56f2b1fc",
   "metadata": {},
   "outputs": [],
   "source": [
    "# Merging: (بر اساس) MovieID & UserID\n",
    "merged_df = pd.merge(ratings_df, movies_df, on='MovieID')"
   ]
  },
  {
   "cell_type": "code",
   "execution_count": 7,
   "id": "cbe95a9e",
   "metadata": {},
   "outputs": [],
   "source": [
    "merged_df = pd.merge(merged_df, users_df, on='UserID')"
   ]
  },
  {
   "cell_type": "code",
   "execution_count": null,
   "id": "10b29f78",
   "metadata": {},
   "outputs": [],
   "source": [
    "# همانطور که در جدول زیر مشاهده خواهید کرد دیتاست movielens\n",
    "# بیشتر از 1 میلیون سطر دارد\n",
    "# که باعث شد برای تحلیل آن در لپ تاپ و حجم بالای داده \n",
    "# دچار مشکل شوم\n",
    "# ( لپتاپ خیلی کند عمل میکرد و تقریبا برای ران کردن کل این کدهایی که خدمت شما ارائه شده نزدیک به 30-40 دقیقه زمان نیاز است)"
   ]
  },
  {
   "cell_type": "code",
   "execution_count": 8,
   "id": "ba6e25e5",
   "metadata": {
    "scrolled": true
   },
   "outputs": [
    {
     "data": {
      "text/html": [
       "<div>\n",
       "<style scoped>\n",
       "    .dataframe tbody tr th:only-of-type {\n",
       "        vertical-align: middle;\n",
       "    }\n",
       "\n",
       "    .dataframe tbody tr th {\n",
       "        vertical-align: top;\n",
       "    }\n",
       "\n",
       "    .dataframe thead th {\n",
       "        text-align: right;\n",
       "    }\n",
       "</style>\n",
       "<table border=\"1\" class=\"dataframe\">\n",
       "  <thead>\n",
       "    <tr style=\"text-align: right;\">\n",
       "      <th></th>\n",
       "      <th>UserID</th>\n",
       "      <th>MovieID</th>\n",
       "      <th>Rating</th>\n",
       "      <th>Timestamp</th>\n",
       "      <th>Title</th>\n",
       "      <th>Genres</th>\n",
       "      <th>Gender</th>\n",
       "      <th>Age</th>\n",
       "      <th>Occupation</th>\n",
       "      <th>Zip-code</th>\n",
       "    </tr>\n",
       "  </thead>\n",
       "  <tbody>\n",
       "    <tr>\n",
       "      <th>0</th>\n",
       "      <td>1</td>\n",
       "      <td>1193</td>\n",
       "      <td>5</td>\n",
       "      <td>978300760</td>\n",
       "      <td>One Flew Over the Cuckoo's Nest (1975)</td>\n",
       "      <td>Drama</td>\n",
       "      <td>F</td>\n",
       "      <td>1</td>\n",
       "      <td>10</td>\n",
       "      <td>48067</td>\n",
       "    </tr>\n",
       "    <tr>\n",
       "      <th>1</th>\n",
       "      <td>1</td>\n",
       "      <td>661</td>\n",
       "      <td>3</td>\n",
       "      <td>978302109</td>\n",
       "      <td>James and the Giant Peach (1996)</td>\n",
       "      <td>Animation|Children's|Musical</td>\n",
       "      <td>F</td>\n",
       "      <td>1</td>\n",
       "      <td>10</td>\n",
       "      <td>48067</td>\n",
       "    </tr>\n",
       "    <tr>\n",
       "      <th>2</th>\n",
       "      <td>1</td>\n",
       "      <td>914</td>\n",
       "      <td>3</td>\n",
       "      <td>978301968</td>\n",
       "      <td>My Fair Lady (1964)</td>\n",
       "      <td>Musical|Romance</td>\n",
       "      <td>F</td>\n",
       "      <td>1</td>\n",
       "      <td>10</td>\n",
       "      <td>48067</td>\n",
       "    </tr>\n",
       "    <tr>\n",
       "      <th>3</th>\n",
       "      <td>1</td>\n",
       "      <td>3408</td>\n",
       "      <td>4</td>\n",
       "      <td>978300275</td>\n",
       "      <td>Erin Brockovich (2000)</td>\n",
       "      <td>Drama</td>\n",
       "      <td>F</td>\n",
       "      <td>1</td>\n",
       "      <td>10</td>\n",
       "      <td>48067</td>\n",
       "    </tr>\n",
       "    <tr>\n",
       "      <th>4</th>\n",
       "      <td>1</td>\n",
       "      <td>2355</td>\n",
       "      <td>5</td>\n",
       "      <td>978824291</td>\n",
       "      <td>Bug's Life, A (1998)</td>\n",
       "      <td>Animation|Children's|Comedy</td>\n",
       "      <td>F</td>\n",
       "      <td>1</td>\n",
       "      <td>10</td>\n",
       "      <td>48067</td>\n",
       "    </tr>\n",
       "    <tr>\n",
       "      <th>...</th>\n",
       "      <td>...</td>\n",
       "      <td>...</td>\n",
       "      <td>...</td>\n",
       "      <td>...</td>\n",
       "      <td>...</td>\n",
       "      <td>...</td>\n",
       "      <td>...</td>\n",
       "      <td>...</td>\n",
       "      <td>...</td>\n",
       "      <td>...</td>\n",
       "    </tr>\n",
       "    <tr>\n",
       "      <th>1000204</th>\n",
       "      <td>4211</td>\n",
       "      <td>3791</td>\n",
       "      <td>2</td>\n",
       "      <td>965319075</td>\n",
       "      <td>Footloose (1984)</td>\n",
       "      <td>Drama</td>\n",
       "      <td>M</td>\n",
       "      <td>45</td>\n",
       "      <td>5</td>\n",
       "      <td>77662</td>\n",
       "    </tr>\n",
       "    <tr>\n",
       "      <th>1000205</th>\n",
       "      <td>4211</td>\n",
       "      <td>3806</td>\n",
       "      <td>3</td>\n",
       "      <td>965319138</td>\n",
       "      <td>MacKenna's Gold (1969)</td>\n",
       "      <td>Western</td>\n",
       "      <td>M</td>\n",
       "      <td>45</td>\n",
       "      <td>5</td>\n",
       "      <td>77662</td>\n",
       "    </tr>\n",
       "    <tr>\n",
       "      <th>1000206</th>\n",
       "      <td>4211</td>\n",
       "      <td>3840</td>\n",
       "      <td>4</td>\n",
       "      <td>965319197</td>\n",
       "      <td>Pumpkinhead (1988)</td>\n",
       "      <td>Horror</td>\n",
       "      <td>M</td>\n",
       "      <td>45</td>\n",
       "      <td>5</td>\n",
       "      <td>77662</td>\n",
       "    </tr>\n",
       "    <tr>\n",
       "      <th>1000207</th>\n",
       "      <td>4211</td>\n",
       "      <td>3766</td>\n",
       "      <td>2</td>\n",
       "      <td>965319138</td>\n",
       "      <td>Missing in Action (1984)</td>\n",
       "      <td>Action|War</td>\n",
       "      <td>M</td>\n",
       "      <td>45</td>\n",
       "      <td>5</td>\n",
       "      <td>77662</td>\n",
       "    </tr>\n",
       "    <tr>\n",
       "      <th>1000208</th>\n",
       "      <td>4211</td>\n",
       "      <td>3834</td>\n",
       "      <td>2</td>\n",
       "      <td>965318885</td>\n",
       "      <td>Bronco Billy (1980)</td>\n",
       "      <td>Adventure|Drama|Romance</td>\n",
       "      <td>M</td>\n",
       "      <td>45</td>\n",
       "      <td>5</td>\n",
       "      <td>77662</td>\n",
       "    </tr>\n",
       "  </tbody>\n",
       "</table>\n",
       "<p>1000209 rows × 10 columns</p>\n",
       "</div>"
      ],
      "text/plain": [
       "         UserID  MovieID  Rating  Timestamp  \\\n",
       "0             1     1193       5  978300760   \n",
       "1             1      661       3  978302109   \n",
       "2             1      914       3  978301968   \n",
       "3             1     3408       4  978300275   \n",
       "4             1     2355       5  978824291   \n",
       "...         ...      ...     ...        ...   \n",
       "1000204    4211     3791       2  965319075   \n",
       "1000205    4211     3806       3  965319138   \n",
       "1000206    4211     3840       4  965319197   \n",
       "1000207    4211     3766       2  965319138   \n",
       "1000208    4211     3834       2  965318885   \n",
       "\n",
       "                                          Title                        Genres  \\\n",
       "0        One Flew Over the Cuckoo's Nest (1975)                         Drama   \n",
       "1              James and the Giant Peach (1996)  Animation|Children's|Musical   \n",
       "2                           My Fair Lady (1964)               Musical|Romance   \n",
       "3                        Erin Brockovich (2000)                         Drama   \n",
       "4                          Bug's Life, A (1998)   Animation|Children's|Comedy   \n",
       "...                                         ...                           ...   \n",
       "1000204                        Footloose (1984)                         Drama   \n",
       "1000205                  MacKenna's Gold (1969)                       Western   \n",
       "1000206                      Pumpkinhead (1988)                        Horror   \n",
       "1000207                Missing in Action (1984)                    Action|War   \n",
       "1000208                     Bronco Billy (1980)       Adventure|Drama|Romance   \n",
       "\n",
       "        Gender  Age  Occupation Zip-code  \n",
       "0            F    1          10    48067  \n",
       "1            F    1          10    48067  \n",
       "2            F    1          10    48067  \n",
       "3            F    1          10    48067  \n",
       "4            F    1          10    48067  \n",
       "...        ...  ...         ...      ...  \n",
       "1000204      M   45           5    77662  \n",
       "1000205      M   45           5    77662  \n",
       "1000206      M   45           5    77662  \n",
       "1000207      M   45           5    77662  \n",
       "1000208      M   45           5    77662  \n",
       "\n",
       "[1000209 rows x 10 columns]"
      ]
     },
     "execution_count": 8,
     "metadata": {},
     "output_type": "execute_result"
    }
   ],
   "source": [
    "merged_df"
   ]
  },
  {
   "cell_type": "code",
   "execution_count": 9,
   "id": "8b49dc14",
   "metadata": {},
   "outputs": [
    {
     "name": "stdout",
     "output_type": "stream",
     "text": [
      "<class 'pandas.core.frame.DataFrame'>\n",
      "Int64Index: 1000209 entries, 0 to 1000208\n",
      "Data columns (total 10 columns):\n",
      " #   Column      Non-Null Count    Dtype \n",
      "---  ------      --------------    ----- \n",
      " 0   UserID      1000209 non-null  int64 \n",
      " 1   MovieID     1000209 non-null  int64 \n",
      " 2   Rating      1000209 non-null  int64 \n",
      " 3   Timestamp   1000209 non-null  int64 \n",
      " 4   Title       1000209 non-null  object\n",
      " 5   Genres      1000209 non-null  object\n",
      " 6   Gender      1000209 non-null  object\n",
      " 7   Age         1000209 non-null  int64 \n",
      " 8   Occupation  1000209 non-null  int64 \n",
      " 9   Zip-code    1000209 non-null  object\n",
      "dtypes: int64(6), object(4)\n",
      "memory usage: 83.9+ MB\n"
     ]
    }
   ],
   "source": [
    "merged_df.info()"
   ]
  },
  {
   "cell_type": "code",
   "execution_count": 10,
   "id": "8f5cf94d",
   "metadata": {},
   "outputs": [
    {
     "data": {
      "text/html": [
       "<div>\n",
       "<style scoped>\n",
       "    .dataframe tbody tr th:only-of-type {\n",
       "        vertical-align: middle;\n",
       "    }\n",
       "\n",
       "    .dataframe tbody tr th {\n",
       "        vertical-align: top;\n",
       "    }\n",
       "\n",
       "    .dataframe thead th {\n",
       "        text-align: right;\n",
       "    }\n",
       "</style>\n",
       "<table border=\"1\" class=\"dataframe\">\n",
       "  <thead>\n",
       "    <tr style=\"text-align: right;\">\n",
       "      <th></th>\n",
       "      <th>UserID</th>\n",
       "      <th>MovieID</th>\n",
       "      <th>Rating</th>\n",
       "      <th>Timestamp</th>\n",
       "      <th>Title</th>\n",
       "      <th>Genres</th>\n",
       "      <th>Gender</th>\n",
       "      <th>Age</th>\n",
       "      <th>Occupation</th>\n",
       "      <th>Zip-code</th>\n",
       "    </tr>\n",
       "  </thead>\n",
       "  <tbody>\n",
       "    <tr>\n",
       "      <th>90072</th>\n",
       "      <td>1203</td>\n",
       "      <td>1029</td>\n",
       "      <td>5</td>\n",
       "      <td>1006717682</td>\n",
       "      <td>Dumbo (1941)</td>\n",
       "      <td>Animation|Children's|Musical</td>\n",
       "      <td>F</td>\n",
       "      <td>25</td>\n",
       "      <td>1</td>\n",
       "      <td>06417</td>\n",
       "    </tr>\n",
       "    <tr>\n",
       "      <th>382250</th>\n",
       "      <td>5077</td>\n",
       "      <td>1945</td>\n",
       "      <td>5</td>\n",
       "      <td>962560939</td>\n",
       "      <td>On the Waterfront (1954)</td>\n",
       "      <td>Crime|Drama</td>\n",
       "      <td>M</td>\n",
       "      <td>25</td>\n",
       "      <td>2</td>\n",
       "      <td>20037</td>\n",
       "    </tr>\n",
       "    <tr>\n",
       "      <th>25298</th>\n",
       "      <td>352</td>\n",
       "      <td>1054</td>\n",
       "      <td>4</td>\n",
       "      <td>976330185</td>\n",
       "      <td>Get on the Bus (1996)</td>\n",
       "      <td>Drama</td>\n",
       "      <td>M</td>\n",
       "      <td>18</td>\n",
       "      <td>4</td>\n",
       "      <td>60115</td>\n",
       "    </tr>\n",
       "    <tr>\n",
       "      <th>517955</th>\n",
       "      <td>4518</td>\n",
       "      <td>1179</td>\n",
       "      <td>5</td>\n",
       "      <td>964843977</td>\n",
       "      <td>Grifters, The (1990)</td>\n",
       "      <td>Crime|Drama|Film-Noir</td>\n",
       "      <td>M</td>\n",
       "      <td>25</td>\n",
       "      <td>0</td>\n",
       "      <td>80903</td>\n",
       "    </tr>\n",
       "    <tr>\n",
       "      <th>245832</th>\n",
       "      <td>3389</td>\n",
       "      <td>903</td>\n",
       "      <td>4</td>\n",
       "      <td>967511825</td>\n",
       "      <td>Vertigo (1958)</td>\n",
       "      <td>Mystery|Thriller</td>\n",
       "      <td>M</td>\n",
       "      <td>18</td>\n",
       "      <td>0</td>\n",
       "      <td>13603</td>\n",
       "    </tr>\n",
       "    <tr>\n",
       "      <th>...</th>\n",
       "      <td>...</td>\n",
       "      <td>...</td>\n",
       "      <td>...</td>\n",
       "      <td>...</td>\n",
       "      <td>...</td>\n",
       "      <td>...</td>\n",
       "      <td>...</td>\n",
       "      <td>...</td>\n",
       "      <td>...</td>\n",
       "      <td>...</td>\n",
       "    </tr>\n",
       "    <tr>\n",
       "      <th>526546</th>\n",
       "      <td>5084</td>\n",
       "      <td>673</td>\n",
       "      <td>5</td>\n",
       "      <td>962400779</td>\n",
       "      <td>Space Jam (1996)</td>\n",
       "      <td>Adventure|Animation|Children's|Comedy|Fantasy</td>\n",
       "      <td>M</td>\n",
       "      <td>18</td>\n",
       "      <td>4</td>\n",
       "      <td>10013</td>\n",
       "    </tr>\n",
       "    <tr>\n",
       "      <th>312144</th>\n",
       "      <td>4169</td>\n",
       "      <td>2966</td>\n",
       "      <td>3</td>\n",
       "      <td>965334229</td>\n",
       "      <td>Straight Story, The (1999)</td>\n",
       "      <td>Drama</td>\n",
       "      <td>M</td>\n",
       "      <td>50</td>\n",
       "      <td>0</td>\n",
       "      <td>66048</td>\n",
       "    </tr>\n",
       "    <tr>\n",
       "      <th>722883</th>\n",
       "      <td>1778</td>\n",
       "      <td>3877</td>\n",
       "      <td>2</td>\n",
       "      <td>974721567</td>\n",
       "      <td>Supergirl (1984)</td>\n",
       "      <td>Action|Adventure|Fantasy</td>\n",
       "      <td>M</td>\n",
       "      <td>18</td>\n",
       "      <td>4</td>\n",
       "      <td>94704</td>\n",
       "    </tr>\n",
       "    <tr>\n",
       "      <th>50213</th>\n",
       "      <td>710</td>\n",
       "      <td>3535</td>\n",
       "      <td>3</td>\n",
       "      <td>975539370</td>\n",
       "      <td>American Psycho (2000)</td>\n",
       "      <td>Comedy|Horror|Thriller</td>\n",
       "      <td>M</td>\n",
       "      <td>25</td>\n",
       "      <td>20</td>\n",
       "      <td>85207</td>\n",
       "    </tr>\n",
       "    <tr>\n",
       "      <th>182641</th>\n",
       "      <td>2393</td>\n",
       "      <td>1252</td>\n",
       "      <td>5</td>\n",
       "      <td>974295156</td>\n",
       "      <td>Chinatown (1974)</td>\n",
       "      <td>Film-Noir|Mystery|Thriller</td>\n",
       "      <td>M</td>\n",
       "      <td>56</td>\n",
       "      <td>13</td>\n",
       "      <td>13123</td>\n",
       "    </tr>\n",
       "  </tbody>\n",
       "</table>\n",
       "<p>100000 rows × 10 columns</p>\n",
       "</div>"
      ],
      "text/plain": [
       "        UserID  MovieID  Rating   Timestamp                       Title  \\\n",
       "90072     1203     1029       5  1006717682                Dumbo (1941)   \n",
       "382250    5077     1945       5   962560939    On the Waterfront (1954)   \n",
       "25298      352     1054       4   976330185       Get on the Bus (1996)   \n",
       "517955    4518     1179       5   964843977        Grifters, The (1990)   \n",
       "245832    3389      903       4   967511825              Vertigo (1958)   \n",
       "...        ...      ...     ...         ...                         ...   \n",
       "526546    5084      673       5   962400779            Space Jam (1996)   \n",
       "312144    4169     2966       3   965334229  Straight Story, The (1999)   \n",
       "722883    1778     3877       2   974721567            Supergirl (1984)   \n",
       "50213      710     3535       3   975539370      American Psycho (2000)   \n",
       "182641    2393     1252       5   974295156            Chinatown (1974)   \n",
       "\n",
       "                                               Genres Gender  Age  Occupation  \\\n",
       "90072                    Animation|Children's|Musical      F   25           1   \n",
       "382250                                    Crime|Drama      M   25           2   \n",
       "25298                                           Drama      M   18           4   \n",
       "517955                          Crime|Drama|Film-Noir      M   25           0   \n",
       "245832                               Mystery|Thriller      M   18           0   \n",
       "...                                               ...    ...  ...         ...   \n",
       "526546  Adventure|Animation|Children's|Comedy|Fantasy      M   18           4   \n",
       "312144                                          Drama      M   50           0   \n",
       "722883                       Action|Adventure|Fantasy      M   18           4   \n",
       "50213                          Comedy|Horror|Thriller      M   25          20   \n",
       "182641                     Film-Noir|Mystery|Thriller      M   56          13   \n",
       "\n",
       "       Zip-code  \n",
       "90072     06417  \n",
       "382250    20037  \n",
       "25298     60115  \n",
       "517955    80903  \n",
       "245832    13603  \n",
       "...         ...  \n",
       "526546    10013  \n",
       "312144    66048  \n",
       "722883    94704  \n",
       "50213     85207  \n",
       "182641    13123  \n",
       "\n",
       "[100000 rows x 10 columns]"
      ]
     },
     "execution_count": 10,
     "metadata": {},
     "output_type": "execute_result"
    }
   ],
   "source": [
    "df_main = merged_df\n",
    "\n",
    "merged_df = merged_df.sample(n=100000, random_state=12)\n",
    "merged_df"
   ]
  },
  {
   "cell_type": "code",
   "execution_count": 11,
   "id": "d4a0a654",
   "metadata": {},
   "outputs": [],
   "source": [
    "# generator function\n",
    "def generator():\n",
    "    for _, row in merged_df.iterrows():\n",
    "        yield {\n",
    "            'movie_id': tf.constant(str(row['MovieID'])),\n",
    "            'user_id': tf.constant(str(row['UserID'])),\n",
    "            'user_rating': tf.constant(float(row['Rating'])),\n",
    "            'user_gender': tf.constant(1 if row['Gender'] == 'M' else 0, dtype=tf.int32),\n",
    "            'user_zip_code': tf.constant(row['Zip-code']),\n",
    "            'user_occupation_text': tf.constant(str(row['Occupation'])),\n",
    "            'bucketized_user_age': tf.constant(int(row['Age'] // 10), dtype=tf.int32),\n",
    "        }"
   ]
  },
  {
   "cell_type": "code",
   "execution_count": 12,
   "id": "c51e1ba9",
   "metadata": {},
   "outputs": [],
   "source": [
    "# Create the dataset\n",
    "dataset = tf.data.Dataset.from_generator(generator, output_signature={\n",
    "    'movie_id': tf.TensorSpec(shape=(), dtype=tf.string),\n",
    "    'user_id': tf.TensorSpec(shape=(), dtype=tf.string),\n",
    "    'user_rating': tf.TensorSpec(shape=(), dtype=tf.float32),\n",
    "    'user_gender': tf.TensorSpec(shape=(), dtype=tf.int32),\n",
    "    'user_zip_code': tf.TensorSpec(shape=(), dtype=tf.string),\n",
    "    'user_occupation_text': tf.TensorSpec(shape=(), dtype=tf.string),\n",
    "    'bucketized_user_age': tf.TensorSpec(shape=(), dtype=tf.int32),\n",
    "})"
   ]
  },
  {
   "cell_type": "code",
   "execution_count": 13,
   "id": "e4fd35d4",
   "metadata": {},
   "outputs": [
    {
     "name": "stdout",
     "output_type": "stream",
     "text": [
      "{'movie_id': TensorSpec(shape=(), dtype=tf.string, name=None), 'user_id': TensorSpec(shape=(), dtype=tf.string, name=None), 'user_rating': TensorSpec(shape=(), dtype=tf.float32, name=None), 'user_gender': TensorSpec(shape=(), dtype=tf.int32, name=None), 'user_zip_code': TensorSpec(shape=(), dtype=tf.string, name=None), 'user_occupation_text': TensorSpec(shape=(), dtype=tf.string, name=None), 'bucketized_user_age': TensorSpec(shape=(), dtype=tf.int32, name=None)}\n"
     ]
    }
   ],
   "source": [
    "print(dataset.element_spec)"
   ]
  },
  {
   "cell_type": "code",
   "execution_count": 14,
   "id": "f5f9008e",
   "metadata": {},
   "outputs": [
    {
     "data": {
      "text/plain": [
       "{'movie_id': TensorSpec(shape=(), dtype=tf.string, name=None),\n",
       " 'user_id': TensorSpec(shape=(), dtype=tf.string, name=None),\n",
       " 'user_rating': TensorSpec(shape=(), dtype=tf.float32, name=None),\n",
       " 'user_gender': TensorSpec(shape=(), dtype=tf.int32, name=None),\n",
       " 'user_zip_code': TensorSpec(shape=(), dtype=tf.string, name=None),\n",
       " 'user_occupation_text': TensorSpec(shape=(), dtype=tf.string, name=None),\n",
       " 'bucketized_user_age': TensorSpec(shape=(), dtype=tf.int32, name=None)}"
      ]
     },
     "execution_count": 14,
     "metadata": {},
     "output_type": "execute_result"
    }
   ],
   "source": [
    "dataset.element_spec"
   ]
  },
  {
   "cell_type": "code",
   "execution_count": 15,
   "id": "61fe27fa",
   "metadata": {},
   "outputs": [],
   "source": [
    "ratings = dataset.element_spec"
   ]
  },
  {
   "cell_type": "code",
   "execution_count": 16,
   "id": "cfe298bf",
   "metadata": {},
   "outputs": [],
   "source": [
    "# Shuffle and split the data\n",
    "tf.random.set_seed(42)\n",
    "shuffled = dataset.shuffle(100000, seed=42, reshuffle_each_iteration=False)\n",
    "train = shuffled.take(80000)\n",
    "test = shuffled.skip(80000).take(20000)"
   ]
  },
  {
   "cell_type": "code",
   "execution_count": 17,
   "id": "2c91dec2",
   "metadata": {},
   "outputs": [],
   "source": [
    "feature_names = [\"movie_id\", \"user_id\", \"user_gender\", \"user_zip_code\",\n",
    "                 \"user_occupation_text\", \"bucketized_user_age\"]"
   ]
  },
  {
   "cell_type": "code",
   "execution_count": 18,
   "id": "d0e538b4",
   "metadata": {},
   "outputs": [],
   "source": [
    "vocabularies = {}\n",
    "batch_size = 200  # بیشتر از این لپتاپم نکشید\n",
    "\n",
    "\n",
    "for feature_name in feature_names:\n",
    "    unique_values = set()\n",
    "    for batch in dataset.batch(batch_size):\n",
    "        unique_values.update(batch[feature_name].numpy())\n",
    "    \n",
    "    vocabularies[feature_name] = np.array(list(unique_values))"
   ]
  },
  {
   "cell_type": "code",
   "execution_count": 19,
   "id": "678a7afe",
   "metadata": {},
   "outputs": [
    {
     "data": {
      "text/plain": [
       "{'movie_id': array([b'2026', b'3046', b'3570', ..., b'1840', b'3929', b'2036'],\n",
       "       dtype='|S4'),\n",
       " 'user_id': array([b'3046', b'5318', b'2571', ..., b'5078', b'783', b'3929'],\n",
       "       dtype='|S4'),\n",
       " 'user_gender': array([0, 1]),\n",
       " 'user_zip_code': array([b'48009', b'85710', b'45750', ..., b'89012', b'92037', b'12203'],\n",
       "       dtype='|S10'),\n",
       " 'user_occupation_text': array([b'16', b'9', b'13', b'5', b'12', b'4', b'1', b'15', b'14', b'0',\n",
       "        b'8', b'19', b'11', b'6', b'18', b'7', b'17', b'2', b'20', b'10',\n",
       "        b'3'], dtype='|S2'),\n",
       " 'bucketized_user_age': array([0, 1, 2, 3, 4, 5])}"
      ]
     },
     "execution_count": 19,
     "metadata": {},
     "output_type": "execute_result"
    }
   ],
   "source": [
    "vocabularies"
   ]
  },
  {
   "cell_type": "code",
   "execution_count": 20,
   "id": "a02f5e76",
   "metadata": {},
   "outputs": [],
   "source": [
    "#vocabs= vocabularies"
   ]
  },
  {
   "cell_type": "raw",
   "id": "3d83347b",
   "metadata": {},
   "source": [
    "#works \n",
    "batch_size=100\n",
    "\n",
    "for feature_name in feature_names:\n",
    "    vocab = dataset.batch(batch_size).map(lambda x: x[feature_name])\n",
    "    vocabularies[feature_name] = np.unique(np.concatenate(list(vocab)))\n"
   ]
  },
  {
   "cell_type": "code",
   "execution_count": 21,
   "id": "b0999c03",
   "metadata": {},
   "outputs": [],
   "source": [
    "class Model(tf.keras.Model):\n",
    "    def __init__(self, cross_layer, deep_layer_sizes):\n",
    "        super().__init__()\n",
    "        self._cross_layer = cross_layer\n",
    "        self._deep_layers = [tf.keras.layers.Dense(layer_size, activation=\"relu\") for layer_size in deep_layer_sizes]\n",
    "        self._logit_layer = tf.keras.layers.Dense(1)\n",
    "        self.task = tfrs.tasks.Ranking(\n",
    "            loss=tf.keras.losses.MeanSquaredError(),\n",
    "            metrics=[tf.keras.metrics.RootMeanSquaredError(\"RMSE\")]\n",
    "        )\n",
    "\n",
    "    def call(self, features):\n",
    "        embeddings = [self._embeddings[feature_name](features[feature_name]) for feature_name in self._all_features]\n",
    "        x = tf.concat(embeddings, axis=1)\n",
    "\n",
    "        if self._cross_layer is not None:\n",
    "            x = self._cross_layer(x)\n",
    "\n",
    "        for deep_layer in self._deep_layers:\n",
    "            x = deep_layer(x)\n",
    "\n",
    "        return self._logit_layer(x)\n",
    "\n",
    "    def compute_loss(self, features, training=False):\n",
    "        labels = features.pop(\"user_rating\")\n",
    "        scores = self(features)\n",
    "        return self.task(\n",
    "            labels=labels,\n",
    "            predictions=scores\n",
    "        )\n"
   ]
  },
  {
   "cell_type": "raw",
   "id": "a36c1cf3",
   "metadata": {},
   "source": [
    "from sklearn.metrics import auc, log_loss\n",
    "\n",
    "class Model(tfrs.Model):\n",
    "    def __init__(self, model):\n",
    "        super().__init__()\n",
    "        self._model = model\n",
    "        self._logit_layer = tf.keras.layers.Dense(1)\n",
    "\n",
    "        self.task = tfrs.tasks.Ranking(\n",
    "            loss=tf.keras.losses.MeanSquaredError(),\n",
    "            metrics=[\n",
    "                tf.keras.metrics.RootMeanSquaredError(\"RMSE\"),\n",
    "            ]\n",
    "        )\n",
    "\n",
    "    def call(self, x):\n",
    "        x = self._model(x)\n",
    "        return self._logit_layer(x)\n",
    "\n",
    "    def compute_loss(self, features, training=False):\n",
    "        x, labels = features\n",
    "        scores = self(x)\n",
    "\n",
    "        return self.task(\n",
    "            labels=labels,\n",
    "            predictions=scores,\n",
    "        )"
   ]
  },
  {
   "cell_type": "code",
   "execution_count": 37,
   "id": "6dece048",
   "metadata": {},
   "outputs": [],
   "source": [
    "crossnet = Model(tfrs.layers.dcn.Cross(), deep_layer_sizes=[192, 192])\n",
    "#crossnet = Model(tfrs.layers.dcn.Cross())\n",
    "\n",
    "deepnet = Model(\n",
    "    tf.keras.Sequential([\n",
    "      tf.keras.layers.Dense(512, activation=\"relu\"),\n",
    "      tf.keras.layers.Dense(256, activation=\"relu\"),\n",
    "      tf.keras.layers.Dense(128, activation=\"relu\")\n",
    "    ])\n",
    ")"
   ]
  },
  {
   "cell_type": "code",
   "execution_count": 24,
   "id": "a1d0f890",
   "metadata": {},
   "outputs": [],
   "source": [
    "def run_models(use_cross_layer, deep_layer_sizes, projection_dim=None, num_runs=5):\n",
    "  models = []\n",
    "  rmses = []\n",
    "\n",
    "  for i in range(num_runs):\n",
    "    model = DCN(use_cross_layer=use_cross_layer,\n",
    "                deep_layer_sizes=deep_layer_sizes,\n",
    "                projection_dim=projection_dim)\n",
    "    model.compile(optimizer=tf.keras.optimizers.Adam(learning_rate))\n",
    "    models.append(model)\n",
    "\n",
    "    model.fit(cached_train, epochs=epochs, verbose=False)\n",
    "    metrics = model.evaluate(cached_test, return_dict=True)\n",
    "    rmses.append(metrics[\"RMSE\"])\n",
    "\n",
    "  mean, stdv = np.average(rmses), np.std(rmses)\n",
    "\n",
    "  return {\"model\": models, \"mean\": mean, \"stdv\": stdv}"
   ]
  },
  {
   "cell_type": "code",
   "execution_count": 26,
   "id": "40aee5e2",
   "metadata": {},
   "outputs": [],
   "source": [
    "# DCN-MODEL in article **\n",
    "\n",
    "\n",
    "#from tensorflow.keras import keras \n",
    "from tensorflow.keras import layers\n",
    "import tensorflow_recommenders as tfrs\n",
    "import tensorflow as tf\n",
    "\n",
    "\n",
    "class DCN(tfrs.Model):\n",
    "    def __init__(self, use_cross_layer, deep_layer_sizes, projection_dim=None):\n",
    "        super().__init__()\n",
    "        self.embedding_dimension = 32\n",
    "        str_features = [\"movie_id\", \"user_id\", \"user_zip_code\", \"user_occupation_text\"]\n",
    "        int_features = [\"user_gender\", \"bucketized_user_age\"]\n",
    "        self._all_features = str_features + int_features\n",
    "        self._embeddings = {}\n",
    "\n",
    "        for feature_name in str_features:\n",
    "            vocabulary = vocabularies[feature_name]\n",
    "            self._embeddings[feature_name] = tf.keras.Sequential([\n",
    "                tf.keras.layers.StringLookup(vocabulary=vocabulary, mask_token=None),\n",
    "                tf.keras.layers.Embedding(len(vocabulary) + 1, self.embedding_dimension)\n",
    "            ])\n",
    "\n",
    "        for feature_name in int_features:\n",
    "            vocabulary = vocabularies[feature_name]\n",
    "            self._embeddings[feature_name] = tf.keras.Sequential([\n",
    "                tf.keras.layers.IntegerLookup(vocabulary=vocabulary, mask_value=None),\n",
    "                tf.keras.layers.Embedding(len(vocabulary) + 1, self.embedding_dimension)\n",
    "            ])\n",
    "\n",
    "        if use_cross_layer:\n",
    "            self._cross_layer = tfrs.layers.dcn.Cross(\n",
    "                projection_dim=projection_dim,\n",
    "                kernel_initializer=\"glorot_uniform\"\n",
    "            )\n",
    "        else:\n",
    "            self._cross_layer = None\n",
    "\n",
    "        self._deep_layers = [tf.keras.layers.Dense(layer_size, activation=\"relu\") for layer_size in deep_layer_sizes]\n",
    "        self._logit_layer = tf.keras.layers.Dense(1)\n",
    "        self.task = tfrs.tasks.Ranking(\n",
    "            loss=tf.keras.losses.MeanSquaredError(),\n",
    "            metrics=[tf.keras.metrics.RootMeanSquaredError(\"RMSE\")]\n",
    "        )\n",
    "\n",
    "    def call(self, features):\n",
    "        embeddings = [self._embeddings[feature_name](features[feature_name]) for feature_name in self._all_features]\n",
    "        x = tf.concat(embeddings, axis=1)\n",
    "\n",
    "        if self._cross_layer is not None:\n",
    "            x = self._cross_layer(x)\n",
    "\n",
    "        for deep_layer in self._deep_layers:\n",
    "            x = deep_layer(x)\n",
    "\n",
    "        return self._logit_layer(x)\n",
    "\n",
    "    def compute_loss(self, features, training=False):\n",
    "        labels = features.pop(\"user_rating\")\n",
    "        scores = self(features)\n",
    "        return self.task(\n",
    "            labels=labels,\n",
    "            predictions=scores\n",
    "        )"
   ]
  },
  {
   "cell_type": "code",
   "execution_count": 27,
   "id": "a708d097",
   "metadata": {},
   "outputs": [],
   "source": [
    "cached_train = train.shuffle(100_000).batch(8192).cache()\n",
    "cached_test = test.batch(4096).cache()"
   ]
  },
  {
   "cell_type": "code",
   "execution_count": 28,
   "id": "8da17581",
   "metadata": {},
   "outputs": [],
   "source": [
    "# Training the DCN model\n",
    "# بهترین مقادیر رو این ایپاک و این مقدار طول گام داشتند\n",
    "epochs = 8\n",
    "learning_rate = 0.01"
   ]
  },
  {
   "cell_type": "code",
   "execution_count": 29,
   "id": "fc0c42cc",
   "metadata": {},
   "outputs": [
    {
     "name": "stdout",
     "output_type": "stream",
     "text": [
      "WARNING:tensorflow:mask_value is deprecated, use mask_token instead.\n",
      "5/5 [==============================] - 120s 152ms/step - RMSE: 0.9658 - loss: 0.9396 - regularization_loss: 0.0000e+00 - total_loss: 0.9396\n",
      "5/5 [==============================] - 0s 42ms/step - RMSE: 0.9724 - loss: 0.9506 - regularization_loss: 0.0000e+00 - total_loss: 0.9506\n",
      "5/5 [==============================] - 0s 44ms/step - RMSE: 0.9663 - loss: 0.9397 - regularization_loss: 0.0000e+00 - total_loss: 0.9397\n",
      "5/5 [==============================] - 0s 43ms/step - RMSE: 0.9690 - loss: 0.9456 - regularization_loss: 0.0000e+00 - total_loss: 0.9456\n",
      "5/5 [==============================] - 0s 43ms/step - RMSE: 0.9549 - loss: 0.9188 - regularization_loss: 0.0000e+00 - total_loss: 0.9188\n"
     ]
    }
   ],
   "source": [
    "dcn_result = run_models(use_cross_layer=True, deep_layer_sizes=[192, 192])"
   ]
  },
  {
   "cell_type": "code",
   "execution_count": 30,
   "id": "e3527156",
   "metadata": {},
   "outputs": [
    {
     "name": "stdout",
     "output_type": "stream",
     "text": [
      "5/5 [==============================] - 0s 45ms/step - RMSE: 0.9545 - loss: 0.9179 - regularization_loss: 0.0000e+00 - total_loss: 0.9179\n",
      "5/5 [==============================] - 0s 48ms/step - RMSE: 0.9540 - loss: 0.9169 - regularization_loss: 0.0000e+00 - total_loss: 0.9169\n",
      "5/5 [==============================] - 0s 46ms/step - RMSE: 0.9522 - loss: 0.9136 - regularization_loss: 0.0000e+00 - total_loss: 0.9136\n",
      "5/5 [==============================] - 0s 45ms/step - RMSE: 0.9661 - loss: 0.9391 - regularization_loss: 0.0000e+00 - total_loss: 0.9391\n",
      "5/5 [==============================] - 0s 47ms/step - RMSE: 0.9658 - loss: 0.9393 - regularization_loss: 0.0000e+00 - total_loss: 0.9393\n"
     ]
    }
   ],
   "source": [
    "dcn_result = run_models(use_cross_layer=True,\n",
    "                        deep_layer_sizes=[192, 192])"
   ]
  },
  {
   "cell_type": "code",
   "execution_count": null,
   "id": "6b6b0f1e",
   "metadata": {},
   "outputs": [],
   "source": [
    "# ******************"
   ]
  },
  {
   "cell_type": "code",
   "execution_count": null,
   "id": "663a856a",
   "metadata": {},
   "outputs": [],
   "source": [
    "# در اینجا پروژه به پایان میرسید\n",
    "# مدل ارائه شده در مقاله روی دیتاست پیاده سازی شد و نتایج مشخص است"
   ]
  },
  {
   "cell_type": "code",
   "execution_count": null,
   "id": "316dad99",
   "metadata": {},
   "outputs": [],
   "source": []
  },
  {
   "cell_type": "code",
   "execution_count": null,
   "id": "924b8044",
   "metadata": {},
   "outputs": [],
   "source": []
  },
  {
   "cell_type": "code",
   "execution_count": null,
   "id": "aa6c92a7",
   "metadata": {},
   "outputs": [],
   "source": [
    "# برای کار اضافه تر و امتیازی یک شبکه عصبی عمیق هم تعریف شد ***"
   ]
  },
  {
   "cell_type": "code",
   "execution_count": null,
   "id": "037a1f07",
   "metadata": {},
   "outputs": [],
   "source": [
    "# و داده روی آن مدل نیز ارزیابی شد\n",
    "# که میتوان مشاهده کرد مدل dcn بهتر از dnn و دقیقتر عمل میکند "
   ]
  },
  {
   "cell_type": "code",
   "execution_count": null,
   "id": "0ac3f374",
   "metadata": {},
   "outputs": [],
   "source": [
    "# در بخش پایین این توضیحات کد این قسمت اضافه تر را میتوانید ببینید: "
   ]
  },
  {
   "cell_type": "code",
   "execution_count": 31,
   "id": "a52d5741",
   "metadata": {},
   "outputs": [],
   "source": [
    "# DNN model\n",
    "class DNNModel(tfrs.Model):\n",
    "    def __init__(self, deep_layer_sizes):\n",
    "        super().__init__()\n",
    "        self.embedding_dimension = 32\n",
    "        str_features = [\"movie_id\", \"user_id\", \"user_zip_code\", \"user_occupation_text\"]\n",
    "        int_features = [\"user_gender\", \"bucketized_user_age\"]\n",
    "        self._all_features = str_features + int_features\n",
    "        self._embeddings = {}\n",
    "\n",
    "        for feature_name in str_features:\n",
    "            vocabulary = vocabs[feature_name]\n",
    "            self._embeddings[feature_name] = tf.keras.Sequential([\n",
    "                tf.keras.layers.StringLookup(vocabulary=vocabulary, mask_token=None),\n",
    "                tf.keras.layers.Embedding(len(vocabulary) + 1, self.embedding_dimension)\n",
    "            ])\n",
    "\n",
    "        for feature_name in int_features:\n",
    "            vocabulary = vocabs[feature_name]\n",
    "            self._embeddings[feature_name] = tf.keras.Sequential([\n",
    "                tf.keras.layers.IntegerLookup(vocabulary=vocabulary, mask_value=None),\n",
    "                tf.keras.layers.Embedding(len(vocabulary) + 1, self.embedding_dimension)\n",
    "            ])\n",
    "\n",
    "        self._deep_layers = [tf.keras.layers.Dense(layer_size, activation=\"relu\") for layer_size in deep_layer_sizes]\n",
    "        self._logit_layer = tf.keras.layers.Dense(1)\n",
    "        self.task = tfrs.tasks.Ranking(\n",
    "            loss=tf.keras.losses.MeanSquaredError(),\n",
    "            metrics=[tf.keras.metrics.RootMeanSquaredError(\"RMSE\")]\n",
    "        )\n",
    "\n",
    "    def call(self, features):\n",
    "        embeddings = [self._embeddings[feature_name](features[feature_name]) for feature_name in self._all_features]\n",
    "        x = tf.concat(embeddings, axis=1)\n",
    "\n",
    "        for deep_layer in self._deep_layers:\n",
    "            x = deep_layer(x)\n",
    "\n",
    "        return self._logit_layer(x)\n",
    "\n",
    "    def compute_loss(self, features, training=False):\n",
    "        labels = features.pop(\"user_rating\")\n",
    "        scores = self(features)\n",
    "        return self.task(\n",
    "            labels=labels,\n",
    "            predictions=scores\n",
    "        )"
   ]
  },
  {
   "cell_type": "code",
   "execution_count": 32,
   "id": "75bc0e44",
   "metadata": {},
   "outputs": [
    {
     "name": "stdout",
     "output_type": "stream",
     "text": [
      "WARNING:tensorflow:mask_value is deprecated, use mask_token instead.\n"
     ]
    }
   ],
   "source": [
    "# Training model\n",
    "dnn_model = DNNModel(deep_layer_sizes=[192, 192])\n",
    "cached_train = train.shuffle(100_000).batch(8192).cache()\n",
    "cached_test = test.batch(4096).cache()\n",
    "epochs = 8\n",
    "learning_rate = 0.01"
   ]
  },
  {
   "cell_type": "code",
   "execution_count": 33,
   "id": "c4a4c0be",
   "metadata": {},
   "outputs": [
    {
     "name": "stdout",
     "output_type": "stream",
     "text": [
      "5/5 [==============================] - 119s 139ms/step - RMSE: 0.9620 - loss: 0.9317 - regularization_loss: 0.0000e+00 - total_loss: 0.9317\n"
     ]
    }
   ],
   "source": [
    "dnn_model.compile(optimizer=tf.keras.optimizers.Adam(learning_rate))\n",
    "dnn_model.fit(cached_train, epochs=epochs, verbose=False)\n",
    "dnn_metrics = dnn_model.evaluate(cached_test, return_dict=True)"
   ]
  },
  {
   "cell_type": "code",
   "execution_count": null,
   "id": "4985103e",
   "metadata": {},
   "outputs": [],
   "source": [
    "# مقایسه نتایج"
   ]
  },
  {
   "cell_type": "raw",
   "id": "23567ad3",
   "metadata": {},
   "source": [
    "DCN : \n",
    "    5/5 [==============================] -\n",
    "    0s 47ms/step - RMSE: 0.9658 - loss: 0.9393 - regularization_loss: 0.0000e+00 - total_loss: 0.9393\n",
    "    \n",
    "    \n",
    "DNN : \n",
    "    5/5 [==============================] -\n",
    "    119s 139ms/step - RMSE: 0.9620 - loss: 0.9317 - regularization_loss: 0.0000e+00 - total_loss: 0.9317"
   ]
  },
  {
   "cell_type": "code",
   "execution_count": null,
   "id": "f8d8f7e1",
   "metadata": {},
   "outputs": [],
   "source": []
  }
 ],
 "metadata": {
  "kernelspec": {
   "display_name": "Python 3 (ipykernel)",
   "language": "python",
   "name": "python3"
  },
  "language_info": {
   "codemirror_mode": {
    "name": "ipython",
    "version": 3
   },
   "file_extension": ".py",
   "mimetype": "text/x-python",
   "name": "python",
   "nbconvert_exporter": "python",
   "pygments_lexer": "ipython3",
   "version": "3.7.6rc1"
  }
 },
 "nbformat": 4,
 "nbformat_minor": 5
}
